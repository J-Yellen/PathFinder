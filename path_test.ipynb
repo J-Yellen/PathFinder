{
 "cells": [
  {
   "attachments": {},
   "cell_type": "markdown",
   "metadata": {},
   "source": [
    "This is a very basic jupyter tutorial for the Hereditary Depth First Search (HDFS) from the pathfinder module.\n",
    "\n",
    "The aim of this exercise is to identify the optimum subset of elements where elements could refer to a sets of features for ML training, Linear Regression or experimental observables. Given access to a pair wise relation matrix - e.g. Pearson Correlation, Fisher Information, Joint Mutual Information, ... - one can construct a Binary Acceptance Matrix (BAM) by defining a threshold (T) below which combination is allowed. The HDFS algorithm will efficiently identify all subsets of elements whose pairwise relations fall below T for all elements in the subset. Thus the HDFS algorithm provides a list of subsets containing minimally 'related' elements. "
   ]
  },
  {
   "cell_type": "code",
   "execution_count": 1,
   "metadata": {},
   "outputs": [],
   "source": [
    "# preamble\n",
    "from math import isclose\n",
    "import numpy as np\n",
    "import pathfinder as pf\n",
    "from pathfinder import plot_results"
   ]
  },
  {
   "attachments": {},
   "cell_type": "markdown",
   "metadata": {},
   "source": [
    "Set random seed for the pseudo data generation"
   ]
  },
  {
   "cell_type": "code",
   "execution_count": 2,
   "metadata": {},
   "outputs": [
    {
     "name": "stdout",
     "output_type": "stream",
     "text": [
      "seed = 0\n"
     ]
    }
   ],
   "source": [
    "seed = 0\n",
    "np.random.seed(seed) \n",
    "print(f\"seed = {seed}\")"
   ]
  },
  {
   "attachments": {},
   "cell_type": "markdown",
   "metadata": {},
   "source": [
    "Here we will create the \"Binary Acceptance Matrix\" (BAM). \\\n",
    "\\\n",
    "The BAM ($\\rho$) is a symmetric Boolean matrix that provides the pair-wise combination condition i.e element $i$ can be combined with elemet $j$ if $\\rho_{ij}$ = True  \\\n",
    "\\\n",
    "For this example we will create a 'psudo' BAM by randomly generating matrix elements with Boolean values distributed as follows:\n",
    "\n",
    "$ P(\\rho_{ij}=True) = p$ \\\n",
    "\\\n",
    " $P(\\rho_{ij}=False) = 1-p$"
   ]
  },
  {
   "cell_type": "code",
   "execution_count": 3,
   "metadata": {},
   "outputs": [],
   "source": [
    "N = 25                                                                          # Matrix size\n",
    "p = 0.5                                                                         # Distribution of True values \n",
    "pseudo = np.triu(np.random.choice([True, False], size=(N,N), p=[p, 1-p]), 1)    # Construct BAM values \n",
    "pseudo += pseudo.T                                                              # Construct symmetric matrix"
   ]
  },
  {
   "attachments": {},
   "cell_type": "markdown",
   "metadata": {},
   "source": [
    "The aim of this exsersise is to identify the optimum subset of elements.\n",
    "The HDFS algorithm identifies **all** allowed subsets elements using the Binary Acceptance Matrix.\n",
    "To help choose the optimum set one can provide a list of weights which will give preference to the highest total path weight sum. \n",
    "If run without weight the \"**find_paths**\" method will return the longest paths as if uniformly weighted to 1.\n",
    "\n"
   ]
  },
  {
   "cell_type": "code",
   "execution_count": 4,
   "metadata": {},
   "outputs": [
    {
     "data": {
      "text/plain": [
       "<AxesSubplot:>"
      ]
     },
     "execution_count": 4,
     "metadata": {},
     "output_type": "execute_result"
    },
    {
     "data": {
      "image/png": "[encoded data removed]",
      "text/plain": [
       "<Figure size 1152x768 with 1 Axes>"
      ]
     },
     "metadata": {},
     "output_type": "display_data"
    }
   ],
   "source": [
    "weights= np.sort(np.random.rand(N))[::-1]                                       # Generate pseudo weights (descending order)\n",
    "bam = pf.BinaryAcceptance(pseudo, weights=weights)                              # Provide pseudo BAM and Weights to BinaryAcceptance class\n",
    "plot_results.plot(bam)                                                          # Plot the BAM"
   ]
  },
  {
   "attachments": {},
   "cell_type": "markdown",
   "metadata": {},
   "source": [
    "Provide the **BinaryAcceptance** Object to **HDFS** and run **find_paths** to get the top 5 results"
   ]
  },
  {
   "cell_type": "code",
   "execution_count": 5,
   "metadata": {},
   "outputs": [
    {
     "name": "stdout",
     "output_type": "stream",
     "text": [
      "1: Path = [2, 5, 7, 8, 14, 17],  Weight = 4.0617221597259725,\n",
      "2: Path = [2, 3, 5, 7, 17],  Weight = 3.7738362610429217,\n",
      "3: Path = [2, 3, 4, 10],  Weight = 3.3726227711970953,\n",
      "4: Path = [2, 3, 7, 15, 17],  Weight = 3.325487572920463,\n",
      "5: Path = [2, 5, 7, 14, 21],  Weight = 3.098146396487591\n"
     ]
    }
   ],
   "source": [
    "hdfs = pf.HDFS(bam, top=5, ignore_subset=True)\n",
    "hdfs.find_paths(verbose=True)"
   ]
  },
  {
   "attachments": {},
   "cell_type": "markdown",
   "metadata": {},
   "source": [
    "Provide the **BinaryAcceptance** Object to **WHDFS** and run **find_paths** to get the top 5 results"
   ]
  },
  {
   "cell_type": "code",
   "execution_count": 6,
   "metadata": {},
   "outputs": [
    {
     "name": "stdout",
     "output_type": "stream",
     "text": [
      "1: Path = [2, 5, 7, 8, 14, 17],  Weight = 4.0617221597259725,\n",
      "2: Path = [2, 3, 5, 7, 17],  Weight = 3.7738362610429217,\n",
      "3: Path = [2, 3, 4, 10],  Weight = 3.3726227711970953,\n",
      "4: Path = [2, 3, 7, 15, 17],  Weight = 3.325487572920463,\n",
      "5: Path = [2, 5, 7, 14, 21],  Weight = 3.098146396487591\n"
     ]
    }
   ],
   "source": [
    "whdfs = pf.WHDFS(bam, top=5, ignore_subset=True)\n",
    "whdfs.find_paths(verbose=True)"
   ]
  },
  {
   "cell_type": "code",
   "execution_count": 7,
   "metadata": {},
   "outputs": [
    {
     "name": "stdout",
     "output_type": "stream",
     "text": [
      "WHDFS == HDFS\n",
      "Object comparison: True\n",
      "Weight comparison: True (fp tolerance 1e-9)\n",
      "Path comparison:   True\n"
     ]
    }
   ],
   "source": [
    "print(\"WHDFS == HDFS\")\n",
    "print(f\"Object comparison: {whdfs.res == hdfs.res}\")\n",
    "print(f\"Weight comparison: {all([isclose(w.weight, h.weight) for w, h in zip(whdfs.res, hdfs.res)])} (fp tolerance 1e-9)\")\n",
    "print(f\"Path comparison:   {all([w.path == h.path for w, h in zip(whdfs.res, hdfs.res)])}\")"
   ]
  },
  {
   "attachments": {},
   "cell_type": "markdown",
   "metadata": {},
   "source": [
    "Plot Results"
   ]
  },
  {
   "cell_type": "code",
   "execution_count": 8,
   "metadata": {},
   "outputs": [
    {
     "data": {
      "image/png": "[encoded data removed]",
      "text/plain": [
       "<Figure size 1152x768 with 1 Axes>"
      ]
     },
     "metadata": {},
     "output_type": "display_data"
    }
   ],
   "source": [
    "axis = plot_results.plot(bam, whdfs)"
   ]
  },
  {
   "attachments": {},
   "cell_type": "markdown",
   "metadata": {},
   "source": []
  }
 ],
 "metadata": {
  "kernelspec": {
   "display_name": "TACO_env",
   "language": "python",
   "name": "python3"
  },
  "language_info": {
   "codemirror_mode": {
    "name": "ipython",
    "version": 3
   },
   "file_extension": ".py",
   "mimetype": "text/x-python",
   "name": "python",
   "nbconvert_exporter": "python",
   "pygments_lexer": "ipython3",
   "version": "3.10.0"
  },
  "orig_nbformat": 4
 },
 "nbformat": 4,
 "nbformat_minor": 2
}
